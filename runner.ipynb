{
 "cells": [
  {
   "cell_type": "code",
   "execution_count": 2,
   "metadata": {
    "pycharm": {
     "name": "#%%\n"
    }
   },
   "outputs": [],
   "source": [
    "%load_ext autoreload\n",
    "%autoreload 2"
   ]
  },
  {
   "cell_type": "code",
   "execution_count": 3,
   "metadata": {
    "collapsed": true
   },
   "outputs": [
    {
     "name": "stderr",
     "output_type": "stream",
     "text": [
      "/Users/loten.noy/.local/share/virtualenvs/recsys-3639-final-project-U-x006ej/lib/python3.8/site-packages/fuzzywuzzy/fuzz.py:11: UserWarning: Using slow pure-python SequenceMatcher. Install python-Levenshtein to remove this warning\n",
      "  warnings.warn('Using slow pure-python SequenceMatcher. Install python-Levenshtein to remove this warning')\n"
     ]
    }
   ],
   "source": [
    "import matplotlib.pyplot as plt\n",
    "import pandas as pd\n",
    "import seaborn as sns\n",
    "\n",
    "from sklearn.model_selection import train_test_split\n",
    "from torch.nn import CrossEntropyLoss\n",
    "from torch.optim import Adam\n",
    "from torch.utils.data import DataLoader\n",
    "\n",
    "from src.data.feature_extractor import FeatureExtractor\n",
    "from src.data.importer import DataImporter\n",
    "from src.data.ratings_dataset import RatingsDataset\n",
    "from src.model.candidate_generation import CandidateGeneration\n",
    "from src.trainer import Trainer\n",
    "from src.utils import get_device\n",
    "from src.model.approx_knn import ApproxKNN\n",
    "from src.eval.rank_evaluator import RankEvaluator"
   ]
  },
  {
   "cell_type": "markdown",
   "metadata": {
    "pycharm": {
     "name": "#%% md\n"
    }
   },
   "source": [
    "### Fetch MovieLens100k data"
   ]
  },
  {
   "cell_type": "code",
   "execution_count": 4,
   "metadata": {
    "pycharm": {
     "name": "#%%\n"
    }
   },
   "outputs": [
    {
     "name": "stdout",
     "output_type": "stream",
     "text": [
      "Data already exists\n"
     ]
    }
   ],
   "source": [
    "data_importer = DataImporter('http://files.grouplens.org/datasets/movielens/ml-100k.zip')\n",
    "users_df, movies_df, genres, ratings_df = data_importer.import_data()"
   ]
  },
  {
   "cell_type": "markdown",
   "metadata": {
    "pycharm": {
     "name": "#%% md\n"
    }
   },
   "source": [
    "### Generate features and create examples df"
   ]
  },
  {
   "cell_type": "code",
   "execution_count": 5,
   "metadata": {
    "pycharm": {
     "name": "#%%\n"
    }
   },
   "outputs": [
    {
     "name": "stdout",
     "output_type": "stream",
     "text": [
      "One-Hot user occupation matrix shape (943, 21)\n",
      "One-Hot user gender matrix shape (943, 2)\n",
      "One-Hot user geo area matrix shape (943, 4)\n",
      "Using 108 examples per user_id\n",
      "Using 25 examples per label\n",
      "Examples shape  (38050, 7)\n"
     ]
    }
   ],
   "source": [
    "f_extractor = FeatureExtractor(window_size=50)\n",
    "examples_df = f_extractor.fit_transform(\n",
    "    genres=genres,\n",
    "    movies_df=movies_df,\n",
    "    users_df=users_df,\n",
    "    ratings_df=ratings_df\n",
    ")"
   ]
  },
  {
   "cell_type": "markdown",
   "metadata": {
    "pycharm": {
     "name": "#%% md\n"
    }
   },
   "source": [
    "## Split train/validation examples"
   ]
  },
  {
   "cell_type": "code",
   "execution_count": 15,
   "metadata": {
    "pycharm": {
     "name": "#%%\n"
    }
   },
   "outputs": [],
   "source": [
    "train_df, val_df = train_test_split(examples_df)\n",
    "\n",
    "# Train Loader\n",
    "train_dataset = RatingsDataset.from_df(train_df)\n",
    "train_loader = DataLoader(train_dataset, batch_size=512, shuffle=True)\n",
    "\n",
    "# Validation Loader\n",
    "val_dataset = RatingsDataset.from_df(val_df)\n",
    "val_loader = DataLoader(val_dataset, batch_size=512, shuffle=False)"
   ]
  },
  {
   "cell_type": "markdown",
   "metadata": {
    "pycharm": {
     "name": "#%% md\n"
    }
   },
   "source": [
    "### Train Candidate generation model"
   ]
  },
  {
   "cell_type": "code",
   "execution_count": 7,
   "metadata": {
    "pycharm": {
     "name": "#%%\n"
    }
   },
   "outputs": [],
   "source": [
    "EMBEDDING_DIMS = 256\n",
    "DENSE_UNITS = 256\n",
    "USER_DIM = 64\n",
    "LEARNING_RATE = 1e-4\n",
    "WEIGHT_DECAY = 1e-5"
   ]
  },
  {
   "cell_type": "code",
   "execution_count": 8,
   "metadata": {
    "pycharm": {
     "name": "#%%\n"
    }
   },
   "outputs": [
    {
     "name": "stdout",
     "output_type": "stream",
     "text": [
      "CUDA is not available.  Training on CPU ...\n"
     ]
    }
   ],
   "source": [
    "device = get_device()\n",
    "\n",
    "model = CandidateGeneration(\n",
    "    n_items=movies_df.index.astype(int).max() + 2,\n",
    "    n_search_items=len(genres) + 1,\n",
    "    n_features=len(examples_df.iloc[0]['features']),\n",
    "    embedding_dim=EMBEDDING_DIMS,\n",
    "    fc_layers=(2048, 1024, 512, 256),\n",
    "    user_dim=USER_DIM\n",
    ").to(device)\n",
    "\n",
    "opt = Adam(model.parameters(), lr=LEARNING_RATE, weight_decay=WEIGHT_DECAY)\n",
    "crit = CrossEntropyLoss().to(device)"
   ]
  },
  {
   "cell_type": "code",
   "execution_count": 9,
   "metadata": {
    "pycharm": {
     "name": "#%%\n"
    }
   },
   "outputs": [
    {
     "name": "stdout",
     "output_type": "stream",
     "text": [
      "Epoch 1/7, train loss: 7.4264, val loss: 7.4274, time: 8.38s\n",
      "Epoch 2/7, train loss: 7.4202, val loss: 7.4209, time: 8.22s\n",
      "Epoch 3/7, train loss: 7.4139, val loss: 7.4145, time: 10.04s\n",
      "Epoch 4/7, train loss: 7.4070, val loss: 7.4086, time: 9.73s\n",
      "Epoch 5/7, train loss: 7.4019, val loss: 7.4049, time: 8.56s\n",
      "Epoch 6/7, train loss: 7.3988, val loss: 7.4039, time: 10.81s\n",
      "Epoch 7/7, train loss: 7.3966, val loss: 7.4001, time: 8.64s\n"
     ]
    }
   ],
   "source": [
    "trainer = Trainer(model, opt, crit, device)\n",
    "train_losses, val_losses = trainer.train(train_loader, val_loader, epochs=7)"
   ]
  },
  {
   "cell_type": "code",
   "execution_count": 10,
   "metadata": {
    "pycharm": {
     "name": "#%%\n"
    }
   },
   "outputs": [
    {
     "data": {
      "text/plain": "<AxesSubplot:>"
     },
     "execution_count": 10,
     "metadata": {},
     "output_type": "execute_result"
    },
    {
     "data": {
      "text/plain": "<Figure size 1200x800 with 1 Axes>",
      "image/png": "[encoded data removed]"
     },
     "metadata": {},
     "output_type": "display_data"
    }
   ],
   "source": [
    "_, ax = plt.subplots(1, figsize=(12, 8))\n",
    "sns.lineplot(data=pd.DataFrame({'train': train_losses, 'val': val_losses}), ax=ax)"
   ]
  },
  {
   "cell_type": "markdown",
   "metadata": {
    "pycharm": {
     "name": "#%% md\n"
    }
   },
   "source": [
    "### KNN for Inference time\n"
   ]
  },
  {
   "cell_type": "code",
   "execution_count": 16,
   "metadata": {
    "pycharm": {
     "name": "#%%\n"
    }
   },
   "outputs": [],
   "source": [
    "k = 10\n",
    "rank_evaluator = RankEvaluator(top_k=k, device=device)\n",
    "rank_evaluator.fit(model)"
   ]
  },
  {
   "cell_type": "code",
   "execution_count": 18,
   "outputs": [
    {
     "name": "stdout",
     "output_type": "stream",
     "text": [
      "validation mrr @ 10:  0.05810271674080899\n",
      "validation hit rate @ 10:  0.08777640716374269\n"
     ]
    }
   ],
   "source": [
    "print(f'validation mrr @ {k}: ', rank_evaluator.mrr(val_loader))\n",
    "print(f'validation hit rate @ {k}: ', rank_evaluator.hit_rate(val_loader))"
   ],
   "metadata": {
    "collapsed": false,
    "pycharm": {
     "name": "#%%\n"
    }
   }
  },
  {
   "cell_type": "code",
   "execution_count": null,
   "outputs": [],
   "source": [],
   "metadata": {
    "collapsed": false,
    "pycharm": {
     "name": "#%%\n"
    }
   }
  }
 ],
 "metadata": {
  "kernelspec": {
   "display_name": "Python 3 (ipykernel)",
   "language": "python",
   "name": "python3"
  },
  "language_info": {
   "codemirror_mode": {
    "name": "ipython",
    "version": 3
   },
   "file_extension": ".py",
   "mimetype": "text/x-python",
   "name": "python",
   "nbconvert_exporter": "python",
   "pygments_lexer": "ipython3",
   "version": "3.8.6"
  }
 },
 "nbformat": 4,
 "nbformat_minor": 1
}