{
 "cells": [
  {
   "cell_type": "code",
   "execution_count": 3,
   "metadata": {
    "pycharm": {
     "is_executing": true,
     "name": "#%%\n"
    },
    "id": "sdAepxNuyRd5"
   },
   "outputs": [],
   "source": [
    "%load_ext autoreload\n",
    "%autoreload 2"
   ]
  },
  {
   "cell_type": "code",
   "source": [
    "# !pip install zipfile36 --quiet\n",
    "# !pip install uszipcode --quiet"
   ],
   "metadata": {
    "id": "NFvtVheByvxL",
    "outputId": "08c1aa8d-bad7-4acb-8f10-ae8eb18464e9",
    "colab": {
     "base_uri": "https://localhost:8080/"
    }
   },
   "execution_count": 4,
   "outputs": [
    {
     "output_type": "stream",
     "name": "stdout",
     "text": [
      "\u001B[?25l     \u001B[90m━━━━━━━━━━━━━━━━━━━━━━━━━━━━━━━━━━━━━━━━\u001B[0m \u001B[32m0.0/76.4 KB\u001B[0m \u001B[31m?\u001B[0m eta \u001B[36m-:--:--\u001B[0m\r\u001B[2K     \u001B[90m━━━━━━━━━━━━━━━━━━━━━━━━━━━━━━━━━━━━━━━━\u001B[0m \u001B[32m76.4/76.4 KB\u001B[0m \u001B[31m9.0 MB/s\u001B[0m eta \u001B[36m0:00:00\u001B[0m\n",
      "\u001B[?25h\u001B[?25l     \u001B[90m━━━━━━━━━━━━━━━━━━━━━━━━━━━━━━━━━━━━━━━━\u001B[0m \u001B[32m0.0/121.5 KB\u001B[0m \u001B[31m?\u001B[0m eta \u001B[36m-:--:--\u001B[0m\r\u001B[2K     \u001B[90m━━━━━━━━━━━━━━━━━━━━━━━━━━━━━━━━━━━━━━\u001B[0m \u001B[32m121.5/121.5 KB\u001B[0m \u001B[31m17.1 MB/s\u001B[0m eta \u001B[36m0:00:00\u001B[0m\n",
      "\u001B[?25h"
     ]
    }
   ]
  },
  {
   "cell_type": "code",
   "source": [
    "# from zipfile import ZipFile\n",
    "# \n",
    "# with ZipFile(\"src.zip\", 'r') as zObject:\n",
    "# \tzObject.extractall()"
   ],
   "metadata": {
    "id": "uG-yRiU7y6m0"
   },
   "execution_count": 5,
   "outputs": []
  },
  {
   "cell_type": "code",
   "execution_count": 16,
   "metadata": {
    "id": "TMl--lcIyRd6"
   },
   "outputs": [],
   "source": [
    "import matplotlib.pyplot as plt\n",
    "import pandas as pd\n",
    "import seaborn as sns\n",
    "\n",
    "from sklearn.model_selection import train_test_split\n",
    "from torch.nn import CrossEntropyLoss\n",
    "from torch.optim import Adam\n",
    "from torch.utils.data import DataLoader\n",
    "\n",
    "from src.data.feature_extractor import FeatureExtractor\n",
    "from src.data.importer import DataImporter\n",
    "from src.data.ratings_dataset import RatingsDataset\n",
    "from src.model.candidate_generation import CandidateGeneration\n",
    "from src.model.popularity import Popularity\n",
    "from src.trainer import Trainer\n",
    "from src.utils import get_device\n",
    "from src.model.candidate_generation_from_transformer import CandidateGenerationT"
   ]
  },
  {
   "cell_type": "markdown",
   "metadata": {
    "pycharm": {
     "name": "#%% md\n"
    },
    "id": "LHlbe75syRd7"
   },
   "source": [
    "### Fetch MovieLens100k data"
   ]
  },
  {
   "cell_type": "code",
   "execution_count": 7,
   "metadata": {
    "pycharm": {
     "name": "#%%\n"
    },
    "id": "r5hFgHjCyRd8"
   },
   "outputs": [],
   "source": [
    "data_importer = DataImporter('http://files.grouplens.org/datasets/movielens/ml-100k.zip')\n",
    "users_df, movies_df, genres, ratings_df = data_importer.import_data()"
   ]
  },
  {
   "cell_type": "markdown",
   "metadata": {
    "pycharm": {
     "name": "#%% md\n"
    },
    "id": "8uXY__uwyRd8"
   },
   "source": [
    "### Generate features and create examples df"
   ]
  },
  {
   "cell_type": "code",
   "execution_count": 9,
   "metadata": {
    "pycharm": {
     "name": "#%%\n"
    },
    "id": "4rItIVaiyRd9",
    "outputId": "732ac7d1-4122-4b6c-f829-2f494215a660",
    "colab": {
     "base_uri": "https://localhost:8080/"
    }
   },
   "outputs": [
    {
     "output_type": "stream",
     "name": "stdout",
     "text": [
      "One-Hot user occupation matrix shape (943, 21)\n",
      "One-Hot user gender matrix shape (943, 2)\n",
      "One-Hot user geo area matrix shape (943, 4)\n",
      "Using 90 examples per user_id\n",
      "Using 32 examples per label\n",
      "Examples shape  (49088, 7)\n"
     ]
    }
   ],
   "source": [
    "f_extractor = FeatureExtractor(window_size=16)\n",
    "examples_df = f_extractor.fit_transform(\n",
    "    genres=genres,\n",
    "    movies_df=movies_df,\n",
    "    users_df=users_df,\n",
    "    ratings_df=ratings_df\n",
    ")"
   ]
  },
  {
   "cell_type": "markdown",
   "metadata": {
    "pycharm": {
     "name": "#%% md\n"
    },
    "id": "5JlhTtGDyRd9"
   },
   "source": [
    "## Split train/validation examples"
   ]
  },
  {
   "cell_type": "code",
   "execution_count": 10,
   "metadata": {
    "pycharm": {
     "name": "#%%\n"
    },
    "id": "gdejaSu1yRd9"
   },
   "outputs": [],
   "source": [
    "train_df, val_df = train_test_split(examples_df)\n",
    "\n",
    "# Train Loader\n",
    "train_dataset = RatingsDataset.from_df(train_df)\n",
    "train_loader = DataLoader(train_dataset, batch_size=512, shuffle=True)\n",
    "\n",
    "# Validation Loader\n",
    "val_dataset = RatingsDataset.from_df(val_df)\n",
    "val_loader = DataLoader(val_dataset, batch_size=512, shuffle=False)"
   ]
  },
  {
   "cell_type": "markdown",
   "metadata": {
    "pycharm": {
     "name": "#%% md\n"
    },
    "id": "qjGB71pZyRd9"
   },
   "source": [
    "### Train Candidate generation model"
   ]
  },
  {
   "cell_type": "code",
   "execution_count": 11,
   "metadata": {
    "pycharm": {
     "name": "#%%\n"
    },
    "id": "5kEt-QJNyRd-"
   },
   "outputs": [],
   "source": [
    "EMBEDDING_DIMS = 256\n",
    "DENSE_UNITS = 256\n",
    "USER_DIM = 64\n",
    "LEARNING_RATE = 1e-4\n",
    "WEIGHT_DECAY = 1e-5"
   ]
  },
  {
   "cell_type": "code",
   "execution_count": 12,
   "metadata": {
    "pycharm": {
     "name": "#%%\n"
    },
    "id": "IFPb5ULXyRd-",
    "outputId": "f13dae9e-4e96-4e99-b1f7-6c7cbd61751d",
    "colab": {
     "base_uri": "https://localhost:8080/"
    }
   },
   "outputs": [
    {
     "output_type": "stream",
     "name": "stdout",
     "text": [
      "CUDA is available!  Training on GPU ...\n"
     ]
    }
   ],
   "source": [
    "device = get_device()\n",
    "\n",
    "cg_model = CandidateGeneration(\n",
    "    n_items=movies_df.index.astype(int).max() + 2,\n",
    "    n_search_items=len(genres) + 1,\n",
    "    n_features=len(examples_df.iloc[0]['features']),\n",
    "    embedding_dim=EMBEDDING_DIMS,\n",
    "    fc_layers=(2048, 1024, 512, 256),\n",
    "    user_dim=USER_DIM\n",
    ").to(device)\n",
    "\n",
    "opt = Adam(cg_model.parameters(), lr=LEARNING_RATE, weight_decay=WEIGHT_DECAY)\n",
    "crit = CrossEntropyLoss().to(device)"
   ]
  },
  {
   "cell_type": "code",
   "execution_count": 13,
   "metadata": {
    "pycharm": {
     "name": "#%%\n"
    },
    "id": "o9rrOGDXyRd-",
    "outputId": "d5b00790-e05e-4f17-b8c2-822949892cd3",
    "colab": {
     "base_uri": "https://localhost:8080/"
    }
   },
   "outputs": [
    {
     "output_type": "stream",
     "name": "stdout",
     "text": [
      "Epoch 1/7, train loss: 7.4252, val loss: 7.4220, time: 4.36s\n",
      "Epoch 2/7, train loss: 7.4161, val loss: 7.4122, time: 1.17s\n",
      "Epoch 3/7, train loss: 7.4073, val loss: 7.4058, time: 1.31s\n",
      "Epoch 4/7, train loss: 7.3996, val loss: 7.3996, time: 1.16s\n",
      "Epoch 5/7, train loss: 7.3929, val loss: 7.3938, time: 1.40s\n",
      "Epoch 6/7, train loss: 7.3878, val loss: 7.3899, time: 1.74s\n",
      "Epoch 7/7, train loss: 7.3830, val loss: 7.3850, time: 1.35s\n"
     ]
    }
   ],
   "source": [
    "trainer = Trainer(cg_model, opt, crit, device)\n",
    "train_losses, val_losses = trainer.train(train_loader, val_loader, epochs=7)"
   ]
  },
  {
   "cell_type": "code",
   "execution_count": 14,
   "metadata": {
    "pycharm": {
     "name": "#%%\n"
    },
    "id": "MrR20xguyRd_",
    "outputId": "d25119e2-4124-4fa5-fdf6-c9b62e0a81f1",
    "colab": {
     "base_uri": "https://localhost:8080/",
     "height": 483
    }
   },
   "outputs": [
    {
     "output_type": "display_data",
     "data": {
      "text/plain": [
       "<Figure size 864x576 with 1 Axes>"
      ],
      "image/png": "[encoded data removed]"
     },
     "metadata": {
      "needs_background": "light"
     }
    }
   ],
   "source": [
    "_, ax = plt.subplots(1, figsize=(12, 8))\n",
    "sns.lineplot(data=pd.DataFrame({'train': train_losses, 'val': val_losses}), ax=ax);"
   ]
  },
  {
   "cell_type": "markdown",
   "metadata": {
    "pycharm": {
     "name": "#%% md\n"
    },
    "id": "bcjUo6WXyRd_"
   },
   "source": [
    "### Evaluate Original Model\n"
   ]
  },
  {
   "cell_type": "code",
   "execution_count": 17,
   "metadata": {
    "pycharm": {
     "name": "#%%\n"
    },
    "id": "NFXZTnuFyRd_",
    "outputId": "2d20249a-7b9b-4148-a7ee-cee9357e43cc",
    "colab": {
     "base_uri": "https://localhost:8080/"
    }
   },
   "outputs": [
    {
     "output_type": "stream",
     "name": "stdout",
     "text": [
      "candidate generation validation mrr @ 10:  0.05896533792838454\n",
      "candidate generation validation hit rate @ 10:  0.08720020581317205\n"
     ]
    }
   ],
   "source": [
    "k = 10\n",
    "print(f'candidate generation validation mrr @ {k}: ', cg_model.mrr(val_loader, k, device))\n",
    "print(f'candidate generation validation hit rate @ {k}: ', cg_model.hit_rate(val_loader, k, device))"
   ]
  },
  {
   "cell_type": "markdown",
   "metadata": {
    "id": "iQ3Xs-hmyRd_"
   },
   "source": [
    "### POP model (Baseline)"
   ]
  },
  {
   "cell_type": "code",
   "execution_count": 18,
   "metadata": {
    "pycharm": {
     "name": "#%%\n"
    },
    "id": "bW82V89yyReA"
   },
   "outputs": [],
   "source": [
    "pop = Popularity()\n",
    "pop.fit(ratings_df)"
   ]
  },
  {
   "cell_type": "code",
   "execution_count": 19,
   "metadata": {
    "id": "2q24kwLpyReA",
    "outputId": "2866e61c-9a79-4c5d-bb62-65414d258cc1",
    "colab": {
     "base_uri": "https://localhost:8080/"
    }
   },
   "outputs": [
    {
     "output_type": "stream",
     "name": "stdout",
     "text": [
      "popularity model validation mrr @ 10:  0.00036074184148067917\n",
      "popularity model validation hit rate @ 10:  0.001632854502688172\n"
     ]
    }
   ],
   "source": [
    "k = 10\n",
    "print(f'popularity model validation mrr @ {k}: ', pop.mrr(val_loader, k))\n",
    "print(f'popularity model validation hit rate @ {k}: ', pop.hit_rate(val_loader, k))"
   ]
  },
  {
   "cell_type": "markdown",
   "metadata": {
    "id": "qqKEPiIpyReA"
   },
   "source": [
    "### Transformer Based Recommendations"
   ]
  },
  {
   "cell_type": "code",
   "execution_count": 20,
   "metadata": {
    "id": "SoiCmLzqyReA",
    "outputId": "b2914f14-5528-4e4f-a674-e109e79a9a60",
    "colab": {
     "base_uri": "https://localhost:8080/"
    }
   },
   "outputs": [
    {
     "output_type": "stream",
     "name": "stdout",
     "text": [
      "CUDA is available!  Training on GPU ...\n"
     ]
    }
   ],
   "source": [
    "device = get_device()\n",
    "\n",
    "cgt_model = CandidateGenerationT(\n",
    "    n_items=movies_df.index.astype(int).max() + 2,\n",
    "    n_search_items=len(genres) + 1,\n",
    "    n_features=len(examples_df.iloc[0]['features']),\n",
    "    embedding_dim=EMBEDDING_DIMS,\n",
    "    fc_layers=(2048, 1024, 512, 256),\n",
    "    user_dim=USER_DIM\n",
    ").to(device)\n",
    "\n",
    "opt = Adam(cgt_model.parameters(), lr=LEARNING_RATE, weight_decay=WEIGHT_DECAY)\n",
    "crit = CrossEntropyLoss().to(device)"
   ]
  },
  {
   "cell_type": "code",
   "execution_count": 21,
   "metadata": {
    "id": "Doe3qF83yReA",
    "outputId": "0c4419d7-045f-46e1-ed63-843cc53831ea",
    "colab": {
     "base_uri": "https://localhost:8080/"
    }
   },
   "outputs": [
    {
     "output_type": "stream",
     "name": "stdout",
     "text": [
      "Epoch 1/7, train loss: 7.4231, val loss: 7.4194, time: 17.21s\n",
      "Epoch 2/7, train loss: 7.4083, val loss: 7.4063, time: 17.22s\n",
      "Epoch 3/7, train loss: 7.3997, val loss: 7.3992, time: 17.08s\n",
      "Epoch 4/7, train loss: 7.3916, val loss: 7.3937, time: 17.44s\n",
      "Epoch 5/7, train loss: 7.3851, val loss: 7.3858, time: 16.84s\n",
      "Epoch 6/7, train loss: 7.3782, val loss: 7.3810, time: 16.75s\n",
      "Epoch 7/7, train loss: 7.3743, val loss: 7.3776, time: 17.03s\n"
     ]
    }
   ],
   "source": [
    "trainer = Trainer(cgt_model, opt, crit, device)\n",
    "train_losses, val_losses = trainer.train(train_loader, val_loader, epochs=7)"
   ]
  },
  {
   "cell_type": "code",
   "execution_count": 22,
   "outputs": [
    {
     "output_type": "display_data",
     "data": {
      "text/plain": [
       "<Figure size 864x576 with 1 Axes>"
      ],
      "image/png": "[encoded data removed]"
     },
     "metadata": {
      "needs_background": "light"
     }
    }
   ],
   "source": [
    "_, ax = plt.subplots(1, figsize=(12, 8))\n",
    "sns.lineplot(data=pd.DataFrame({'train': train_losses, 'val': val_losses}), ax=ax);"
   ],
   "metadata": {
    "pycharm": {
     "name": "#%%\n"
    },
    "id": "DbSqtj58yReB",
    "outputId": "4a850509-6c54-4d1f-d513-0fff7b5322d6",
    "colab": {
     "base_uri": "https://localhost:8080/",
     "height": 483
    }
   }
  },
  {
   "cell_type": "markdown",
   "metadata": {
    "id": "czvHO5vbyReB"
   },
   "source": [
    "### Compare models"
   ]
  },
  {
   "cell_type": "code",
   "execution_count": 25,
   "metadata": {
    "id": "BUvhUeQIyReB"
   },
   "outputs": [],
   "source": [
    "results_df = pd.DataFrame(columns=['model', 'metric', 'k', 'score'])\n",
    "for m, name in [\n",
    "    (cg_model, 'Candidate Generation'),\n",
    "    (pop, 'Popularity'),\n",
    "    (cgt_model, 'Candidate Generation from Transformer')\n",
    "]:\n",
    "    for k in [5, 10, 20]:\n",
    "        results_df.loc[results_df.shape[0]] = (name, 'mrr', k, m.mrr(val_loader, k, device=device))\n",
    "        results_df.loc[results_df.shape[0]] = (name, 'hit_rate', k, m.hit_rate(val_loader, k, device=device))"
   ]
  },
  {
   "cell_type": "code",
   "execution_count": 26,
   "metadata": {
    "id": "FSn0k_JoyReB",
    "outputId": "b889dd7c-886b-447b-bf0f-b2b0981dacef",
    "colab": {
     "base_uri": "https://localhost:8080/",
     "height": 458
    }
   },
   "outputs": [
    {
     "output_type": "display_data",
     "data": {
      "text/plain": [
       "<Figure size 1440x504 with 2 Axes>"
      ],
      "image/png": "[encoded data removed]"
     },
     "metadata": {
      "needs_background": "light"
     }
    }
   ],
   "source": [
    "_, ax = plt.subplots(1,2, figsize=(20,7))\n",
    "for i, metric in enumerate(['mrr', 'hit_rate']):\n",
    "    data = results_df.loc[results_df.metric==metric].drop(columns=['metric'])\n",
    "    sns.barplot(data=data, y='score', x='model', hue='k', ax=ax[i])\n",
    "    ax[i].set(title=f'{metric} validation score')"
   ]
  },
  {
   "cell_type": "code",
   "execution_count": null,
   "metadata": {
    "id": "WEysADVuyReB"
   },
   "outputs": [],
   "source": []
  }
 ],
 "metadata": {
  "kernelspec": {
   "display_name": "Python 3 (ipykernel)",
   "language": "python",
   "name": "python3"
  },
  "language_info": {
   "codemirror_mode": {
    "name": "ipython",
    "version": 3
   },
   "file_extension": ".py",
   "mimetype": "text/x-python",
   "name": "python",
   "nbconvert_exporter": "python",
   "pygments_lexer": "ipython3",
   "version": "3.8.6"
  },
  "colab": {
   "provenance": []
  },
  "accelerator": "GPU",
  "gpuClass": "standard"
 },
 "nbformat": 4,
 "nbformat_minor": 0
}