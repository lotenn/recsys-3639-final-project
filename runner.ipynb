{
 "cells": [
  {
   "cell_type": "code",
   "execution_count": 5,
   "metadata": {
    "pycharm": {
     "is_executing": true,
     "name": "#%%\n"
    }
   },
   "outputs": [
    {
     "name": "stdout",
     "output_type": "stream",
     "text": [
      "The autoreload extension is already loaded. To reload it, use:\n",
      "  %reload_ext autoreload\n"
     ]
    }
   ],
   "source": [
    "%load_ext autoreload\n",
    "%autoreload 2"
   ]
  },
  {
   "cell_type": "code",
   "execution_count": 34,
   "metadata": {},
   "outputs": [],
   "source": [
    "import matplotlib.pyplot as plt\n",
    "import pandas as pd\n",
    "import seaborn as sns\n",
    "\n",
    "from sklearn.model_selection import train_test_split\n",
    "from torch.nn import CrossEntropyLoss\n",
    "from torch.optim import Adam\n",
    "from torch.utils.data import DataLoader\n",
    "\n",
    "from src.data.feature_extractor import FeatureExtractor\n",
    "from src.data.importer import DataImporter\n",
    "from src.data.ratings_dataset import RatingsDataset\n",
    "from src.model.candidate_generation import CandidateGeneration\n",
    "from src.model.popularity import Popularity\n",
    "from src.trainer import Trainer\n",
    "from src.utils import get_device\n"
   ]
  },
  {
   "cell_type": "markdown",
   "metadata": {
    "pycharm": {
     "name": "#%% md\n"
    }
   },
   "source": [
    "### Fetch MovieLens100k data"
   ]
  },
  {
   "cell_type": "code",
   "execution_count": 7,
   "metadata": {
    "pycharm": {
     "name": "#%%\n"
    }
   },
   "outputs": [
    {
     "name": "stdout",
     "output_type": "stream",
     "text": [
      "Data already exists\n"
     ]
    }
   ],
   "source": [
    "data_importer = DataImporter('http://files.grouplens.org/datasets/movielens/ml-100k.zip')\n",
    "users_df, movies_df, genres, ratings_df = data_importer.import_data()"
   ]
  },
  {
   "cell_type": "markdown",
   "metadata": {
    "pycharm": {
     "name": "#%% md\n"
    }
   },
   "source": [
    "### Generate features and create examples df"
   ]
  },
  {
   "cell_type": "code",
   "execution_count": 8,
   "metadata": {
    "pycharm": {
     "name": "#%%\n"
    }
   },
   "outputs": [
    {
     "name": "stdout",
     "output_type": "stream",
     "text": [
      "One-Hot user occupation matrix shape (943, 21)\n",
      "One-Hot user gender matrix shape (943, 2)\n",
      "One-Hot user geo area matrix shape (943, 4)\n",
      "Using 108 examples per user_id\n",
      "Using 25 examples per label\n",
      "Examples shape  (38175, 7)\n"
     ]
    }
   ],
   "source": [
    "f_extractor = FeatureExtractor(window_size=50)\n",
    "examples_df = f_extractor.fit_transform(\n",
    "    genres=genres,\n",
    "    movies_df=movies_df,\n",
    "    users_df=users_df,\n",
    "    ratings_df=ratings_df\n",
    ")"
   ]
  },
  {
   "cell_type": "markdown",
   "metadata": {
    "pycharm": {
     "name": "#%% md\n"
    }
   },
   "source": [
    "## Split train/validation examples"
   ]
  },
  {
   "cell_type": "code",
   "execution_count": 9,
   "metadata": {
    "pycharm": {
     "name": "#%%\n"
    }
   },
   "outputs": [],
   "source": [
    "train_df, val_df = train_test_split(examples_df)\n",
    "\n",
    "# Train Loader\n",
    "train_dataset = RatingsDataset.from_df(train_df)\n",
    "train_loader = DataLoader(train_dataset, batch_size=512, shuffle=True)\n",
    "\n",
    "# Validation Loader\n",
    "val_dataset = RatingsDataset.from_df(val_df)\n",
    "val_loader = DataLoader(val_dataset, batch_size=512, shuffle=False)"
   ]
  },
  {
   "cell_type": "markdown",
   "metadata": {
    "pycharm": {
     "name": "#%% md\n"
    }
   },
   "source": [
    "### Train Candidate generation model"
   ]
  },
  {
   "cell_type": "code",
   "execution_count": 10,
   "metadata": {
    "pycharm": {
     "name": "#%%\n"
    }
   },
   "outputs": [],
   "source": [
    "EMBEDDING_DIMS = 256\n",
    "DENSE_UNITS = 256\n",
    "USER_DIM = 64\n",
    "LEARNING_RATE = 1e-4\n",
    "WEIGHT_DECAY = 1e-5"
   ]
  },
  {
   "cell_type": "code",
   "execution_count": 11,
   "metadata": {
    "pycharm": {
     "name": "#%%\n"
    }
   },
   "outputs": [
    {
     "name": "stdout",
     "output_type": "stream",
     "text": [
      "CUDA is not available.  Training on CPU ...\n"
     ]
    }
   ],
   "source": [
    "device = get_device()\n",
    "\n",
    "model = CandidateGeneration(\n",
    "    n_items=movies_df.index.astype(int).max() + 2,\n",
    "    n_search_items=len(genres) + 1,\n",
    "    n_features=len(examples_df.iloc[0]['features']),\n",
    "    embedding_dim=EMBEDDING_DIMS,\n",
    "    fc_layers=(2048, 1024, 512, 256),\n",
    "    user_dim=USER_DIM\n",
    ").to(device)\n",
    "\n",
    "opt = Adam(model.parameters(), lr=LEARNING_RATE, weight_decay=WEIGHT_DECAY)\n",
    "crit = CrossEntropyLoss().to(device)"
   ]
  },
  {
   "cell_type": "code",
   "execution_count": 12,
   "metadata": {
    "pycharm": {
     "name": "#%%\n"
    }
   },
   "outputs": [
    {
     "name": "stdout",
     "output_type": "stream",
     "text": [
      "Epoch 1/7, train loss: 7.4264, val loss: 7.4273, time: 8.55s\n",
      "Epoch 2/7, train loss: 7.4179, val loss: 7.4180, time: 8.57s\n",
      "Epoch 3/7, train loss: 7.4119, val loss: 7.4136, time: 10.53s\n",
      "Epoch 4/7, train loss: 7.4076, val loss: 7.4089, time: 11.88s\n",
      "Epoch 5/7, train loss: 7.4018, val loss: 7.4046, time: 10.43s\n",
      "Epoch 6/7, train loss: 7.3967, val loss: 7.4020, time: 9.45s\n",
      "Epoch 7/7, train loss: 7.3924, val loss: 7.3961, time: 8.54s\n"
     ]
    }
   ],
   "source": [
    "trainer = Trainer(model, opt, crit, device)\n",
    "train_losses, val_losses = trainer.train(train_loader, val_loader, epochs=7)"
   ]
  },
  {
   "cell_type": "code",
   "execution_count": 13,
   "metadata": {
    "pycharm": {
     "name": "#%%\n"
    }
   },
   "outputs": [
    {
     "data": {
      "text/plain": [
       "<AxesSubplot:>"
      ]
     },
     "execution_count": 13,
     "metadata": {},
     "output_type": "execute_result"
    },
    {
     "data": {
      "image/png": "[encoded data removed]",
      "text/plain": [
       "<Figure size 1200x800 with 1 Axes>"
      ]
     },
     "metadata": {},
     "output_type": "display_data"
    }
   ],
   "source": [
    "_, ax = plt.subplots(1, figsize=(12, 8))\n",
    "sns.lineplot(data=pd.DataFrame({'train': train_losses, 'val': val_losses}), ax=ax)"
   ]
  },
  {
   "cell_type": "markdown",
   "metadata": {
    "pycharm": {
     "name": "#%% md\n"
    }
   },
   "source": [
    "### Evaluate Original Model\n"
   ]
  },
  {
   "cell_type": "code",
   "execution_count": 14,
   "metadata": {
    "pycharm": {
     "name": "#%%\n"
    }
   },
   "outputs": [],
   "source": [
    "k = 10"
   ]
  },
  {
   "cell_type": "code",
   "execution_count": 15,
   "metadata": {
    "pycharm": {
     "name": "#%%\n"
    }
   },
   "outputs": [
    {
     "name": "stdout",
     "output_type": "stream",
     "text": [
      "validation mrr @ 10:  0.052883095255023556\n",
      "validation hit rate @ 10:  0.08162257301026958\n"
     ]
    }
   ],
   "source": [
    "print(f'candidate generation validation mrr @ {k}: ', model.mrr(val_loader, k))\n",
    "print(f'candidate generation validation hit rate @ {k}: ', model.hit_rate(val_loader, k))"
   ]
  },
  {
   "cell_type": "markdown",
   "metadata": {},
   "source": [
    "### POP model (Baseline)"
   ]
  },
  {
   "cell_type": "code",
   "execution_count": 40,
   "metadata": {
    "pycharm": {
     "name": "#%%\n"
    }
   },
   "outputs": [],
   "source": [
    "pop = Popularity()\n",
    "pop.fit(ratings_df)"
   ]
  },
  {
   "cell_type": "code",
   "execution_count": 42,
   "metadata": {},
   "outputs": [
    {
     "name": "stdout",
     "output_type": "stream",
     "text": [
      "popularity model validation mrr @ 10:  0.0006007858204324485\n",
      "popularity model validation hit rate @ 10:  0.0023643092105263158\n"
     ]
    }
   ],
   "source": [
    "print(f'popularity model validation mrr @ {k}: ', pop.mrr(val_loader, k))\n",
    "print(f'popularity model validation hit rate @ {k}: ', pop.hit_rate(val_loader, k))"
   ]
  },
  {
   "cell_type": "markdown",
   "metadata": {},
   "source": [
    "### Compare models"
   ]
  },
  {
   "cell_type": "code",
   "execution_count": 45,
   "metadata": {},
   "outputs": [],
   "source": [
    "results_df = pd.DataFrame(columns=['model', 'metric', 'k', 'score'])"
   ]
  },
  {
   "cell_type": "code",
   "execution_count": 48,
   "metadata": {},
   "outputs": [
    {
     "data": {
      "text/html": [
       "<div>\n",
       "<style scoped>\n",
       "    .dataframe tbody tr th:only-of-type {\n",
       "        vertical-align: middle;\n",
       "    }\n",
       "\n",
       "    .dataframe tbody tr th {\n",
       "        vertical-align: top;\n",
       "    }\n",
       "\n",
       "    .dataframe thead th {\n",
       "        text-align: right;\n",
       "    }\n",
       "</style>\n",
       "<table border=\"1\" class=\"dataframe\">\n",
       "  <thead>\n",
       "    <tr style=\"text-align: right;\">\n",
       "      <th></th>\n",
       "      <th>model</th>\n",
       "      <th>metric</th>\n",
       "      <th>k</th>\n",
       "      <th>score</th>\n",
       "    </tr>\n",
       "  </thead>\n",
       "  <tbody>\n",
       "    <tr>\n",
       "      <th>1</th>\n",
       "      <td>candidate_generation</td>\n",
       "      <td>hit_rate</td>\n",
       "      <td>5</td>\n",
       "      <td>0.065812</td>\n",
       "    </tr>\n",
       "    <tr>\n",
       "      <th>7</th>\n",
       "      <td>pop</td>\n",
       "      <td>hit_rate</td>\n",
       "      <td>5</td>\n",
       "      <td>0.001336</td>\n",
       "    </tr>\n",
       "    <tr>\n",
       "      <th>0</th>\n",
       "      <td>candidate_generation</td>\n",
       "      <td>mrr</td>\n",
       "      <td>5</td>\n",
       "      <td>0.050778</td>\n",
       "    </tr>\n",
       "    <tr>\n",
       "      <th>6</th>\n",
       "      <td>pop</td>\n",
       "      <td>mrr</td>\n",
       "      <td>5</td>\n",
       "      <td>0.000452</td>\n",
       "    </tr>\n",
       "    <tr>\n",
       "      <th>3</th>\n",
       "      <td>candidate_generation</td>\n",
       "      <td>hit_rate</td>\n",
       "      <td>10</td>\n",
       "      <td>0.081623</td>\n",
       "    </tr>\n",
       "    <tr>\n",
       "      <th>9</th>\n",
       "      <td>pop</td>\n",
       "      <td>hit_rate</td>\n",
       "      <td>10</td>\n",
       "      <td>0.002364</td>\n",
       "    </tr>\n",
       "    <tr>\n",
       "      <th>2</th>\n",
       "      <td>candidate_generation</td>\n",
       "      <td>mrr</td>\n",
       "      <td>10</td>\n",
       "      <td>0.052883</td>\n",
       "    </tr>\n",
       "    <tr>\n",
       "      <th>8</th>\n",
       "      <td>pop</td>\n",
       "      <td>mrr</td>\n",
       "      <td>10</td>\n",
       "      <td>0.000601</td>\n",
       "    </tr>\n",
       "    <tr>\n",
       "      <th>5</th>\n",
       "      <td>candidate_generation</td>\n",
       "      <td>hit_rate</td>\n",
       "      <td>20</td>\n",
       "      <td>0.099444</td>\n",
       "    </tr>\n",
       "    <tr>\n",
       "      <th>11</th>\n",
       "      <td>pop</td>\n",
       "      <td>hit_rate</td>\n",
       "      <td>20</td>\n",
       "      <td>0.004215</td>\n",
       "    </tr>\n",
       "    <tr>\n",
       "      <th>4</th>\n",
       "      <td>candidate_generation</td>\n",
       "      <td>mrr</td>\n",
       "      <td>20</td>\n",
       "      <td>0.054096</td>\n",
       "    </tr>\n",
       "    <tr>\n",
       "      <th>10</th>\n",
       "      <td>pop</td>\n",
       "      <td>mrr</td>\n",
       "      <td>20</td>\n",
       "      <td>0.000727</td>\n",
       "    </tr>\n",
       "  </tbody>\n",
       "</table>\n",
       "</div>"
      ],
      "text/plain": [
       "                   model    metric   k     score\n",
       "1   candidate_generation  hit_rate   5  0.065812\n",
       "7                    pop  hit_rate   5  0.001336\n",
       "0   candidate_generation       mrr   5  0.050778\n",
       "6                    pop       mrr   5  0.000452\n",
       "3   candidate_generation  hit_rate  10  0.081623\n",
       "9                    pop  hit_rate  10  0.002364\n",
       "2   candidate_generation       mrr  10  0.052883\n",
       "8                    pop       mrr  10  0.000601\n",
       "5   candidate_generation  hit_rate  20  0.099444\n",
       "11                   pop  hit_rate  20  0.004215\n",
       "4   candidate_generation       mrr  20  0.054096\n",
       "10                   pop       mrr  20  0.000727"
      ]
     },
     "execution_count": 48,
     "metadata": {},
     "output_type": "execute_result"
    }
   ],
   "source": [
    "for m, name in [(model, 'candidate_generation'), (pop, 'pop')]:\n",
    "    for k in [5, 10, 20]:\n",
    "        results_df.loc[results_df.shape[0]] = (name, 'mrr', k, m.mrr(val_loader, k))\n",
    "        results_df.loc[results_df.shape[0]] = (name, 'hit_rate', k, m.hit_rate(val_loader, k))"
   ]
  },
  {
   "cell_type": "code",
   "execution_count": 62,
   "metadata": {},
   "outputs": [
    {
     "data": {
      "image/png": "[encoded data removed]",
      "text/plain": [
       "<Figure size 2000x700 with 2 Axes>"
      ]
     },
     "metadata": {},
     "output_type": "display_data"
    }
   ],
   "source": [
    "_, ax = plt.subplots(1,2, figsize=(20,7))\n",
    "for i, metric in enumerate(['mrr', 'hit_rate']):\n",
    "    sns.barplot(data=results_df.loc[results_df.metric==metric].drop(columns=['metric']), y='score', x='model', hue='k', ax=ax[i])\n",
    "    ax[i].set(title=f'{metric} validation score')"
   ]
  },
  {
   "cell_type": "code",
   "execution_count": null,
   "metadata": {},
   "outputs": [],
   "source": []
  }
 ],
 "metadata": {
  "kernelspec": {
   "display_name": "Python 3 (ipykernel)",
   "language": "python",
   "name": "python3"
  },
  "language_info": {
   "codemirror_mode": {
    "name": "ipython",
    "version": 3
   },
   "file_extension": ".py",
   "mimetype": "text/x-python",
   "name": "python",
   "nbconvert_exporter": "python",
   "pygments_lexer": "ipython3",
   "version": "3.8.6"
  }
 },
 "nbformat": 4,
 "nbformat_minor": 1
}
